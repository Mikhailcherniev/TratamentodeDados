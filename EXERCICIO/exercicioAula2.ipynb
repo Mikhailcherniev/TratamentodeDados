{
 "cells": [
  {
   "cell_type": "code",
   "execution_count": 39,
   "metadata": {},
   "outputs": [
    {
     "name": "stdout",
     "output_type": "stream",
     "text": [
      "       Nome  Idade           Cidade  Salario\n",
      "0      joão   28.0        são paulo   2300.0\n",
      "1   arnaldo    NaN  rios de janeiro   5000.0\n",
      "2     vilma   22.0              NaN      NaN\n",
      "3  nanquedo   33.0           berlim    900.0\n",
      "4    wagner    NaN  arraial do cabo   2500.0\n"
     ]
    }
   ],
   "source": [
    "# exercicio 1\n",
    "import pandas as pd\n",
    "\n",
    "#1. carregar os dados do arquivo\n",
    "df = pd.read_excel('tabela.xlsx')\n",
    "print(df.head(5))\n",
    "\n"
   ]
  },
  {
   "cell_type": "code",
   "execution_count": null,
   "metadata": {},
   "outputs": [],
   "source": [
    "# exercicio 2 \n",
    "\n",
    "print(df.isnull().sum())\n",
    "print(df.isnull())"
   ]
  },
  {
   "cell_type": "code",
   "execution_count": null,
   "metadata": {},
   "outputs": [],
   "source": [
    "# exercicio 3\n",
    "\n",
    "df['Idade'].fillna(0, inplace=True)\n",
    "print(df)"
   ]
  },
  {
   "cell_type": "code",
   "execution_count": null,
   "metadata": {},
   "outputs": [],
   "source": [
    "# exercicio 4\n",
    "\n",
    "df['Idade'].fillna(df['Idade'].mean(), inplace=True)\n",
    "print(df)\n"
   ]
  },
  {
   "cell_type": "code",
   "execution_count": null,
   "metadata": {},
   "outputs": [],
   "source": [
    "# exercico 5 \n",
    "\n",
    "dfSemNulos = df.dropna()\n",
    "print(dfSemNulos)"
   ]
  },
  {
   "cell_type": "code",
   "execution_count": null,
   "metadata": {},
   "outputs": [],
   "source": [
    "# exercicio 6 \n",
    "\n",
    "df = df.dropna(subset=['Cidade'])\n",
    "print(df)\n",
    "\n"
   ]
  },
  {
   "cell_type": "code",
   "execution_count": null,
   "metadata": {},
   "outputs": [],
   "source": [
    "# exercicio 7\n",
    "\n",
    "df['Salario'].fillna(df['Salario'].median(), inplace=True)\n",
    "print(df)"
   ]
  },
  {
   "cell_type": "code",
   "execution_count": null,
   "metadata": {},
   "outputs": [],
   "source": [
    "# exercico 8 \n",
    "\n",
    "df['Salario'].fillna(df['Idade'], inplace=True)\n",
    "print(df)"
   ]
  },
  {
   "cell_type": "code",
   "execution_count": null,
   "metadata": {},
   "outputs": [],
   "source": [
    "#exercicio 9\n",
    "\n",
    "df['Idade'].fillna(df['Idade'].ffill(), inplace=True)\n",
    "print(df)"
   ]
  },
  {
   "cell_type": "code",
   "execution_count": null,
   "metadata": {},
   "outputs": [],
   "source": [
    "#exercicio 10\n",
    "\n",
    "df['Idade'].fillna(df['Idade'].bfill(), inplace=True)\n",
    "print(df)\n"
   ]
  },
  {
   "cell_type": "code",
   "execution_count": null,
   "metadata": {},
   "outputs": [],
   "source": [
    "#exercicio 11\n",
    "\n",
    "df['Cidade'] = df['Cidade'].str.upper()\n",
    "print(df)"
   ]
  },
  {
   "cell_type": "code",
   "execution_count": null,
   "metadata": {},
   "outputs": [],
   "source": [
    "#exercicio 12\n",
    "\n",
    "df['Cidade'] = df['Cidade'].str.lower()\n",
    "print(df)"
   ]
  },
  {
   "cell_type": "code",
   "execution_count": null,
   "metadata": {},
   "outputs": [],
   "source": [
    "#exercicio 13\n",
    "\n",
    "df['Cidade'] = df['Cidade'].str.strip()\n",
    "print(df)"
   ]
  },
  {
   "cell_type": "code",
   "execution_count": null,
   "metadata": {},
   "outputs": [],
   "source": [
    "#exercicio 14\n",
    "\n",
    "df['Cidade'].str.lower().replace({'são paulo': 'SP', 'rios de janeiro': 'RJ', 'rj': 'RJ', 'sp': 'SP'})\n",
    "print(df)"
   ]
  },
  {
   "cell_type": "code",
   "execution_count": null,
   "metadata": {},
   "outputs": [],
   "source": [
    "#exercicio 15\n",
    "\n",
    "df = df.drop_duplicates(subset=['Nome'])\n",
    "print(df)"
   ]
  }
 ],
 "metadata": {
  "kernelspec": {
   "display_name": "Python 3",
   "language": "python",
   "name": "python3"
  },
  "language_info": {
   "codemirror_mode": {
    "name": "ipython",
    "version": 3
   },
   "file_extension": ".py",
   "mimetype": "text/x-python",
   "name": "python",
   "nbconvert_exporter": "python",
   "pygments_lexer": "ipython3",
   "version": "3.12.1"
  }
 },
 "nbformat": 4,
 "nbformat_minor": 2
}
