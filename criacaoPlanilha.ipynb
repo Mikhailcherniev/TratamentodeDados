{
 "cells": [
  {
   "cell_type": "code",
   "execution_count": null,
   "metadata": {},
   "outputs": [],
   "source": []
  },
  {
   "cell_type": "code",
   "execution_count": 5,
   "metadata": {},
   "outputs": [
    {
     "name": "stdout",
     "output_type": "stream",
     "text": [
      "       Nome  Idade           Cidade  Salario\n",
      "0      joão   28.0        são paulo   2300.0\n",
      "1   arnaldo    NaN  rios de janeiro   5000.0\n",
      "2     vilma   22.0              NaN      NaN\n",
      "3  nanquedo   33.0           berlim    900.0\n",
      "4    wagner    NaN  arraial do cabo   2500.0\n"
     ]
    }
   ],
   "source": [
    "import pandas as pd\n",
    "import numpy as np\n",
    "\n",
    "#criar um dataframe com alguns dados faltando\n",
    "# NAN - representa um valor indevinido ou invalido\n",
    "\n",
    "data = {\n",
    "    \"Nome\":[\"joão\", \"arnaldo\", \"vilma\", \"nanquedo\", \"wagner\"],\n",
    "    \"Idade\":[28, np.nan, 22, 33, np.nan],\n",
    "    \"Cidade\":[\"são paulo\", \"rios de janeiro\", np.nan, \"berlim\", \"arraial do cabo\"],\n",
    "    \"Salario\":[2300, 5000, np.nan, 900, 2500]\n",
    "}\n",
    "\n",
    "df = pd.DataFrame(data)\n",
    "\n",
    "print(df)\n",
    "\n",
    "arquivo = \"dadosAusentes.xlsx\"\n",
    "\n",
    "df.to_excel\n",
    "df.to_excel(arquivo, index = False)\n",
    "\n"
   ]
  }
 ],
 "metadata": {
  "kernelspec": {
   "display_name": "Python 3",
   "language": "python",
   "name": "python3"
  },
  "language_info": {
   "codemirror_mode": {
    "name": "ipython",
    "version": 3
   },
   "file_extension": ".py",
   "mimetype": "text/x-python",
   "name": "python",
   "nbconvert_exporter": "python",
   "pygments_lexer": "ipython3",
   "version": "3.12.1"
  }
 },
 "nbformat": 4,
 "nbformat_minor": 2
}
