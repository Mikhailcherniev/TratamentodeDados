{
 "cells": [
  {
   "cell_type": "code",
   "execution_count": 13,
   "metadata": {},
   "outputs": [
    {
     "name": "stdout",
     "output_type": "stream",
     "text": [
      "        Nome  Idade           Cidade  Salario\n",
      "0       joão   28.0        são paulo   2300.0\n",
      "1    arnaldo    NaN  rios de janeiro   5000.0\n",
      "2      vilma   22.0              NaN      NaN\n",
      "3   nanquedo   33.0           berlim    900.0\n",
      "4     wagner    NaN  arraial do cabo   2500.0\n",
      "5  susuarana    NaN           moscow   2500.0\n",
      "6     wagner    NaN  Arraial do cabo     20.0\n",
      "7      vilma   22.0              NaN      NaN\n"
     ]
    }
   ],
   "source": [
    "import pandas as pd\n",
    "\n",
    "df = pd.read_excel('dadosAusentes.xlsx')\n",
    "print(df)"
   ]
  },
  {
   "cell_type": "code",
   "execution_count": 2,
   "metadata": {},
   "outputs": [
    {
     "ename": "NameError",
     "evalue": "name 'df' is not defined",
     "output_type": "error",
     "traceback": [
      "\u001b[31m---------------------------------------------------------------------------\u001b[39m",
      "\u001b[31mNameError\u001b[39m                                 Traceback (most recent call last)",
      "\u001b[36mCell\u001b[39m\u001b[36m \u001b[39m\u001b[32mIn[2]\u001b[39m\u001b[32m, line 3\u001b[39m\n\u001b[32m      1\u001b[39m \u001b[38;5;66;03m#corrigir errros de formatação (maiusculo, minusculo)\u001b[39;00m\n\u001b[32m      2\u001b[39m \u001b[38;5;66;03m#df['Cidade'] = df['Cidade'].str.capitalize()\u001b[39;00m\n\u001b[32m----> \u001b[39m\u001b[32m3\u001b[39m df = \u001b[43mdf\u001b[49m.str.title()\n\u001b[32m      4\u001b[39m \u001b[38;5;28mprint\u001b[39m(df)\n",
      "\u001b[31mNameError\u001b[39m: name 'df' is not defined"
     ]
    }
   ],
   "source": [
    "#corrigir errros de formatação (maiusculo, minusculo)\n",
    "#df['Cidade'] = df['Cidade'].str.capitalize()\n",
    "df['Cidade'] = df['Cidade'].str.title()\n",
    "print(df)"
   ]
  },
  {
   "cell_type": "code",
   "execution_count": null,
   "metadata": {},
   "outputs": [],
   "source": [
    "#substituição de valores categoricos: [icons: sp, rj ]\n",
    "df['Cidade'].str.lower().replace({'são paulo': 'SP', 'rio de janeiro': 'RJ', 'rj': 'RJ', 'sp': 'SP'})\n",
    "print(df)"
   ]
  },
  {
   "cell_type": "code",
   "execution_count": 22,
   "metadata": {},
   "outputs": [
    {
     "name": "stdout",
     "output_type": "stream",
     "text": [
      "['Nome', 'Cidade']\n"
     ]
    }
   ],
   "source": [
    "#identificar os tipos de dados das colunas\n",
    "coluna = df.select_dtypes(include = ['string', 'object']).columns.to_list()\n",
    "print(coluna)"
   ]
  },
  {
   "cell_type": "code",
   "execution_count": 20,
   "metadata": {},
   "outputs": [
    {
     "name": "stdout",
     "output_type": "stream",
     "text": [
      "['Idade', 'Salario']\n"
     ]
    }
   ],
   "source": [
    "#identificar os tipos de dadpos da coluna float\n",
    "colunaFloate = df.select_dtypes(include = ['float']).columns.to_list()\n",
    "print(colunaFloate)"
   ]
  },
  {
   "cell_type": "code",
   "execution_count": null,
   "metadata": {},
   "outputs": [],
   "source": [
    "#substituir idades para media\n",
    "df['Idade'].fillna(df['Idade'].mean(), inplace=True)\n",
    "print(df)"
   ]
  },
  {
   "cell_type": "code",
   "execution_count": null,
   "metadata": {},
   "outputs": [],
   "source": [
    "#converter dados para int\n",
    "df['Idade'] = df['Idade'].astype(int)\n",
    "print(df)"
   ]
  },
  {
   "cell_type": "code",
   "execution_count": null,
   "metadata": {},
   "outputs": [],
   "source": [
    "#pegar o valor de cima \n",
    "df['idade'] = df['idade'].ffill()\n",
    "\n",
    "#pegar o valor de baixo\n",
    "df['Idade'] = df['Idade'].bfill()"
   ]
  },
  {
   "cell_type": "code",
   "execution_count": null,
   "metadata": {},
   "outputs": [],
   "source": [
    "#criar uma nova coluna: faixa etária\n",
    "df['Faixa Etária'] = pd.cut(df['Idade'], bins=[0, 18, 30, 50, 100], labels = ['Jovem', 'Adulto', 'Meia-Idade', 'Idoso'])\n",
    "print(df)"
   ]
  },
  {
   "cell_type": "code",
   "execution_count": 27,
   "metadata": {},
   "outputs": [
    {
     "name": "stdout",
     "output_type": "stream",
     "text": [
      "        Nome  Idade           Cidade  Salario Faixa Etária\n",
      "0       joão     28        São Paulo   2300.0       Adulto\n",
      "1    arnaldo     26  Rios De Janeiro   5000.0       Adulto\n",
      "2      vilma     22              NaN      NaN       Adulto\n",
      "3   nanquedo     33           Berlim    900.0   Meia-Idade\n",
      "4     wagner     26  Arraial Do Cabo   2500.0       Adulto\n",
      "5  susuarana     26           Moscow   2500.0       Adulto\n"
     ]
    }
   ],
   "source": [
    "#remover duplicatas\n",
    "df = df.drop_duplicates(subset=['Nome'])\n",
    "print(df)"
   ]
  }
 ],
 "metadata": {
  "kernelspec": {
   "display_name": "Python 3",
   "language": "python",
   "name": "python3"
  },
  "language_info": {
   "codemirror_mode": {
    "name": "ipython",
    "version": 3
   },
   "file_extension": ".py",
   "mimetype": "text/x-python",
   "name": "python",
   "nbconvert_exporter": "python",
   "pygments_lexer": "ipython3",
   "version": "3.12.1"
  }
 },
 "nbformat": 4,
 "nbformat_minor": 2
}
